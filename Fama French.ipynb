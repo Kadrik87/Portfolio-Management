{
 "cells": [
  {
   "cell_type": "markdown",
   "metadata": {},
   "source": [
    "# Fama French"
   ]
  },
  {
   "cell_type": "code",
   "execution_count": 7,
   "metadata": {},
   "outputs": [],
   "source": [
    "import pandas as pd\n",
    "import matplotlib.pyplot as plt\n",
    "\n",
    "Data = pd.read_csv('FamaFrenchFactors.csv', index_col='Date')\n",
    "\n",
    "FamaFrenchData=Data.copy()"
   ]
  },
  {
   "cell_type": "code",
   "execution_count": 8,
   "metadata": {},
   "outputs": [],
   "source": [
    "#Calculate excess portfolio returns\n",
    "FamaFrenchData['Portfolio_Excess'] = FamaFrenchData['Portfolio'] - FamaFrenchData['RF']"
   ]
  },
  {
   "cell_type": "code",
   "execution_count": 9,
   "metadata": {},
   "outputs": [
    {
     "data": {
      "text/plain": [
       "<matplotlib.axes._subplots.AxesSubplot at 0x161efe58a58>"
      ]
     },
     "execution_count": 9,
     "metadata": {},
     "output_type": "execute_result"
    },
    {
     "data": {
      "image/png": "[encoded data removed]",
      "text/plain": [
       "<Figure size 432x288 with 1 Axes>"
      ]
     },
     "metadata": {
      "needs_background": "light"
     },
     "output_type": "display_data"
    }
   ],
   "source": [
    "\n",
    "# Plot returns vs excess returns\n",
    "\n",
    "CumulativeReturns = (FamaFrenchData[['Portfolio','Portfolio_Excess']]+1).cumprod()-1\n",
    "CumulativeReturns.plot()"
   ]
  },
  {
   "cell_type": "code",
   "execution_count": 10,
   "metadata": {},
   "outputs": [
    {
     "data": {
      "text/html": [
       "<div>\n",
       "<style scoped>\n",
       "    .dataframe tbody tr th:only-of-type {\n",
       "        vertical-align: middle;\n",
       "    }\n",
       "\n",
       "    .dataframe tbody tr th {\n",
       "        vertical-align: top;\n",
       "    }\n",
       "\n",
       "    .dataframe thead th {\n",
       "        text-align: right;\n",
       "    }\n",
       "</style>\n",
       "<table border=\"1\" class=\"dataframe\">\n",
       "  <thead>\n",
       "    <tr style=\"text-align: right;\">\n",
       "      <th></th>\n",
       "      <th>Portfolio_Excess</th>\n",
       "      <th>Market_Excess</th>\n",
       "    </tr>\n",
       "  </thead>\n",
       "  <tbody>\n",
       "    <tr>\n",
       "      <th>Portfolio_Excess</th>\n",
       "      <td>0.000070</td>\n",
       "      <td>0.000057</td>\n",
       "    </tr>\n",
       "    <tr>\n",
       "      <th>Market_Excess</th>\n",
       "      <td>0.000057</td>\n",
       "      <td>0.000059</td>\n",
       "    </tr>\n",
       "  </tbody>\n",
       "</table>\n",
       "</div>"
      ],
      "text/plain": [
       "                  Portfolio_Excess  Market_Excess\n",
       "Portfolio_Excess          0.000070       0.000057\n",
       "Market_Excess             0.000057       0.000059"
      ]
     },
     "execution_count": 10,
     "metadata": {},
     "output_type": "execute_result"
    }
   ],
   "source": [
    "# Calculate the co-variance matrix between Portfolio_Excess and Market_Excess\n",
    "covariance_matrix = FamaFrenchData[['Portfolio_Excess', 'Market_Excess']].cov()\n",
    "covariance_matrix"
   ]
  },
  {
   "cell_type": "code",
   "execution_count": 13,
   "metadata": {},
   "outputs": [
    {
     "name": "stdout",
     "output_type": "stream",
     "text": [
      "Covariance coefficient: 5.726126338154974e-05\n"
     ]
    }
   ],
   "source": [
    "# Extract the co-variance co-efficient\n",
    "covariance_coefficient =covariance_matrix.iloc[0,1]\n",
    "print('Covariance coefficient:', covariance_coefficient)"
   ]
  },
  {
   "cell_type": "code",
   "execution_count": 15,
   "metadata": {},
   "outputs": [
    {
     "name": "stdout",
     "output_type": "stream",
     "text": [
      "Benchmark variance:  5.8803350882118946e-05\n"
     ]
    }
   ],
   "source": [
    "# Calculate the benchmark variance\n",
    "benchmark_variance = FamaFrenchData['Market_Excess'].var()\n",
    "print('Benchmark variance: ', benchmark_variance)"
   ]
  },
  {
   "cell_type": "code",
   "execution_count": 17,
   "metadata": {},
   "outputs": [
    {
     "name": "stdout",
     "output_type": "stream",
     "text": [
      "Portfolio beta:  0.9737755165745473\n"
     ]
    }
   ],
   "source": [
    "# Calculating the portfolio market beta\n",
    "portfolio_beta = covariance_coefficient / benchmark_variance\n",
    "print('Portfolio beta: ', portfolio_beta)"
   ]
  },
  {
   "cell_type": "code",
   "execution_count": 19,
   "metadata": {},
   "outputs": [
    {
     "name": "stdout",
     "output_type": "stream",
     "text": [
      "Portfolio beta:  0.9737755165745478\n"
     ]
    }
   ],
   "source": [
    "#Calculating Beta Using Linear Regression\n",
    "import statsmodels.formula.api as smf\n",
    "model = smf.ols(formula='Portfolio_Excess ~ Market_Excess', data=FamaFrenchData)\n",
    "fit=model.fit()\n",
    "beta = fit.params['Market_Excess']\n",
    "print('Portfolio beta: ', beta)"
   ]
  },
  {
   "cell_type": "code",
   "execution_count": 23,
   "metadata": {},
   "outputs": [
    {
     "name": "stdout",
     "output_type": "stream",
     "text": [
      "Adjusted r_squared 0.7942627160017837\n"
     ]
    }
   ],
   "source": [
    "# Print adjusted r-squared of the fitted regression\n",
    "rsquared = fit.rsquared\n",
    "adjusted_r_squared = fit.rsquared_adj\n",
    "print('Adjusted r_squared: ', adjusted_r_squared)"
   ]
  },
  {
   "cell_type": "code",
   "execution_count": 26,
   "metadata": {},
   "outputs": [
    {
     "name": "stdout",
     "output_type": "stream",
     "text": [
      "Adjusted r_squared:  0.8193910088585149\n"
     ]
    }
   ],
   "source": [
    "#The Fama French 3-factor model\n",
    "model = smf.ols(formula='Portfolio_Excess ~ Market_Excess+SMB+HML', data=FamaFrenchData)\n",
    "FamaFrench_fit = model.fit()\n",
    "regression_adj_rsq = FamaFrench_fit.rsquared_adj\n",
    "print('Adjusted r_squared: ', regression_adj_rsq)"
   ]
  },
  {
   "cell_type": "code",
   "execution_count": 27,
   "metadata": {},
   "outputs": [
    {
     "name": "stdout",
     "output_type": "stream",
     "text": [
      "The SMB coefficient is  -0.2621515274319265  and is  significant\n"
     ]
    }
   ],
   "source": [
    "#P_value and Statistical Significance\n",
    "smb_pval=FamaFrench_fit.pvalues['SMB']\n",
    "if smb_pval < 0.05:\n",
    "    significant_msg = 'significant'\n",
    "else:\n",
    "    significant_msg = 'not significant'\n",
    "\n",
    "smb_coeff = FamaFrench_fit.params['SMB']\n",
    "print(\"The SMB coefficient is \", smb_coeff, \" and is \", significant_msg)"
   ]
  },
  {
   "cell_type": "code",
   "execution_count": 29,
   "metadata": {},
   "outputs": [
    {
     "name": "stdout",
     "output_type": "stream",
     "text": [
      "Portfolio Alpha:  0.00018326665203183447\n",
      "                            OLS Regression Results                            \n",
      "==============================================================================\n",
      "Dep. Variable:       Portfolio_Excess   R-squared:                       0.820\n",
      "Model:                            OLS   Adj. R-squared:                  0.819\n",
      "Method:                 Least Squares   F-statistic:                     1902.\n",
      "Date:                Mon, 23 Mar 2020   Prob (F-statistic):               0.00\n",
      "Time:                        01:49:33   Log-Likelihood:                 5309.4\n",
      "No. Observations:                1258   AIC:                        -1.061e+04\n",
      "Df Residuals:                    1254   BIC:                        -1.059e+04\n",
      "Df Model:                           3                                         \n",
      "Covariance Type:            nonrobust                                         \n",
      "=================================================================================\n",
      "                    coef    std err          t      P>|t|      [0.025      0.975]\n",
      "---------------------------------------------------------------------------------\n",
      "Intercept         0.0002      0.000      1.820      0.069   -1.43e-05       0.000\n",
      "Market_Excess     1.0155      0.014     75.192      0.000       0.989       1.042\n",
      "SMB              -0.2622      0.021    -12.432      0.000      -0.304      -0.221\n",
      "HML              -0.1087      0.021     -5.065      0.000      -0.151      -0.067\n",
      "==============================================================================\n",
      "Omnibus:                      433.585   Durbin-Watson:                   2.016\n",
      "Prob(Omnibus):                  0.000   Jarque-Bera (JB):             4429.287\n",
      "Skew:                           1.293   Prob(JB):                         0.00\n",
      "Kurtosis:                      11.821   Cond. No.                         217.\n",
      "==============================================================================\n",
      "\n",
      "Warnings:\n",
      "[1] Standard Errors assume that the covariance matrix of the errors is correctly specified.\n"
     ]
    }
   ],
   "source": [
    "#The efficient Market and alpha\n",
    "portfolio_alpha = FamaFrench_fit.params['Intercept']\n",
    "print('Portfolio Alpha: ', portfolio_alpha)\n",
    "portfolio_alpha_annualized = (portfolio_alpha + 1) ** 252 - 1\n",
    "print(FamaFrench_fit.summary())"
   ]
  },
  {
   "cell_type": "code",
   "execution_count": null,
   "metadata": {},
   "outputs": [],
   "source": []
  }
 ],
 "metadata": {
  "kernelspec": {
   "display_name": "Python 3",
   "language": "python",
   "name": "python3"
  },
  "language_info": {
   "codemirror_mode": {
    "name": "ipython",
    "version": 3
   },
   "file_extension": ".py",
   "mimetype": "text/x-python",
   "name": "python",
   "nbconvert_exporter": "python",
   "pygments_lexer": "ipython3",
   "version": "3.7.1"
  }
 },
 "nbformat": 4,
 "nbformat_minor": 2
}
